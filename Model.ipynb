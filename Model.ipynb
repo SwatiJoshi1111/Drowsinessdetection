{
 "cells": [
  {
   "cell_type": "code",
   "execution_count": 1,
   "id": "b0e7a4a3-25cc-49ad-8a66-bc9f16d61416",
   "metadata": {},
   "outputs": [
    {
     "name": "stdout",
     "output_type": "stream",
     "text": [
      "WARNING:tensorflow:From C:\\Users\\USER\\AppData\\Local\\Programs\\Python\\Python311\\Lib\\site-packages\\keras\\src\\losses.py:2976: The name tf.losses.sparse_softmax_cross_entropy is deprecated. Please use tf.compat.v1.losses.sparse_softmax_cross_entropy instead.\n",
      "\n",
      "hello\n"
     ]
    }
   ],
   "source": [
    "import tensorflow as tf\n",
    "print(\"hello\")"
   ]
  },
  {
   "cell_type": "code",
   "execution_count": 4,
   "id": "7bf88010-81da-4cda-bcbb-b1618256d33a",
   "metadata": {},
   "outputs": [],
   "source": [
    "import os\n",
    "import shutil\n",
    "\n",
    "raw_dir=r'C:\\Users\\USER\\OneDrive\\Pictures\\mrlEyes_2018_01'\n",
    "for dirpath, dirname, filenames in os.walk(raw_dir):\n",
    "   for i  in [f for f in filenames if f.endswith('.png')]:\n",
    "     if i.split('_')[4]=='0':\n",
    "       shutil.copy(src=dirpath+'/'+i, dst=r'C:\\Users\\USER\\OneDrive\\Pictures\\prepared_data\\closed_eyes')\n",
    "     elif i.split('_')[4]=='1':\n",
    "      shutil.copy(src=dirpath+'/'+i, dst=r'C:\\Users\\USER\\OneDrive\\Pictures\\prepared_data\\open_eyes')"
   ]
  },
  {
   "cell_type": "code",
   "execution_count": 2,
   "id": "0eb2fa3e-ac0c-4ab2-b0f7-fe4d3deb9fce",
   "metadata": {},
   "outputs": [],
   "source": [
    "from tensorflow.keras.applications import InceptionV3\n",
    "from tensorflow.keras.models import Model\n",
    "from tensorflow.keras.layers import Dropout,Input,Flatten,Dense,MaxPooling2D\n",
    "from tensorflow.keras.optimizers import Adam\n",
    "from tensorflow.keras.preprocessing.image import ImageDataGenerator"
   ]
  },
  {
   "cell_type": "code",
   "execution_count": 3,
   "id": "23a7bd3d-3e8f-4da3-a0c7-facd8261676b",
   "metadata": {},
   "outputs": [
    {
     "name": "stdout",
     "output_type": "stream",
     "text": [
      "Found 54100 images belonging to 2 classes.\n",
      "Found 13524 images belonging to 2 classes.\n"
     ]
    }
   ],
   "source": [
    "train_datagen=ImageDataGenerator(rescale=1./255,rotation_range=0.2,\n",
    "                              shear_range=0.2,\n",
    "                              zoom_range=0.2,width_shift_range=0.2,height_shift_range=0.2,validation_split=0.2)\n",
    "train_data=train_datagen.flow_from_directory(r'C:\\Users\\USER\\OneDrive\\Pictures\\project\\Drowsiness_detection\\prepareddata\\train_data',target_size=(80,80),batch_size=8,class_mode='categorical',subset='training')\n",
    "validation_data=train_datagen.flow_from_directory(r'C:\\Users\\USER\\OneDrive\\Pictures\\project\\Drowsiness_detection\\prepareddata\\train_data',target_size=(80,80),batch_size=8,class_mode='categorical',\n",
    "                                                 subset='validation')"
   ]
  },
  {
   "cell_type": "code",
   "execution_count": 4,
   "id": "1e0a3cdc-34c0-4a04-b16d-7aae8f192aed",
   "metadata": {},
   "outputs": [
    {
     "name": "stdout",
     "output_type": "stream",
     "text": [
      "Found 530 images belonging to 2 classes.\n"
     ]
    }
   ],
   "source": [
    "test_datagen=ImageDataGenerator(rescale=1./255)\n",
    "\n",
    "test_data=test_datagen.flow_from_directory(r'C:\\Users\\USER\\OneDrive\\Pictures\\project\\Drowsiness_detection\\prepareddata\\test_data',target_size=(80,80),batch_size=8,class_mode='categorical')"
   ]
  },
  {
   "cell_type": "code",
   "execution_count": 5,
   "id": "6430a2ba-285a-4740-975d-bfd3a002aaa6",
   "metadata": {},
   "outputs": [
    {
     "name": "stdout",
     "output_type": "stream",
     "text": [
      "WARNING:tensorflow:From C:\\Users\\USER\\AppData\\Local\\Programs\\Python\\Python311\\Lib\\site-packages\\keras\\src\\backend.py:1398: The name tf.executing_eagerly_outside_functions is deprecated. Please use tf.compat.v1.executing_eagerly_outside_functions instead.\n",
      "\n",
      "WARNING:tensorflow:From C:\\Users\\USER\\AppData\\Local\\Programs\\Python\\Python311\\Lib\\site-packages\\keras\\src\\layers\\normalization\\batch_normalization.py:979: The name tf.nn.fused_batch_norm is deprecated. Please use tf.compat.v1.nn.fused_batch_norm instead.\n",
      "\n"
     ]
    }
   ],
   "source": [
    "base_model= InceptionV3(include_top=False,weights='imagenet',input_tensor=Input(shape=(80,80,3)))\n",
    "head_model=base_model.output"
   ]
  },
  {
   "cell_type": "code",
   "execution_count": 12,
   "id": "3147cf74-f0a3-4069-a7ad-002cace68049",
   "metadata": {},
   "outputs": [],
   "source": [
    "from tensorflow.keras.callbacks import ModelCheckpoint,EarlyStopping,ReduceLROnPlateau\n",
    "checkpoint=ModelCheckpoint(r'C:\\Users\\USER\\OneDrive\\Pictures\\project\\Drowsiness_detection\\model checkpoint\\model.h5',monitor='val_loss',save_best_only=True,verbose=3)\n",
    "\n",
    "earlystop=EarlyStopping(monitor='val_loss',patience=7,verbose=3,restore_best_weights=True)\n",
    "learning_rate=ReduceLROnPlateau(monitor='val_loss',patience=3,verbose=3)\n",
    "callbacks=[checkpoint,earlystop,learning_rate]"
   ]
  },
  {
   "cell_type": "code",
   "execution_count": null,
   "id": "1b1c6ad1-767e-4d93-b016-4db7c862e03a",
   "metadata": {},
   "outputs": [],
   "source": []
  },
  {
   "cell_type": "code",
   "execution_count": 7,
   "id": "9a354e84-b7a9-4ed3-83a3-c08278875186",
   "metadata": {},
   "outputs": [
    {
     "name": "stdout",
     "output_type": "stream",
     "text": [
      "Requirement already satisfied: scikit-learn in c:\\users\\user\\appdata\\local\\programs\\python\\python311\\lib\\site-packages (1.4.1.post1)\n",
      "Requirement already satisfied: numpy<2.0,>=1.19.5 in c:\\users\\user\\appdata\\local\\programs\\python\\python311\\lib\\site-packages (from scikit-learn) (1.26.4)\n",
      "Requirement already satisfied: scipy>=1.6.0 in c:\\users\\user\\appdata\\local\\programs\\python\\python311\\lib\\site-packages (from scikit-learn) (1.12.0)\n",
      "Requirement already satisfied: joblib>=1.2.0 in c:\\users\\user\\appdata\\local\\programs\\python\\python311\\lib\\site-packages (from scikit-learn) (1.3.2)\n",
      "Requirement already satisfied: threadpoolctl>=2.0.0 in c:\\users\\user\\appdata\\local\\programs\\python\\python311\\lib\\site-packages (from scikit-learn) (3.3.0)\n"
     ]
    }
   ],
   "source": [
    "!pip install -U scikit-learn "
   ]
  },
  {
   "cell_type": "code",
   "execution_count": 8,
   "id": "bbc7cebf-b7c7-4f82-8cfb-81a04e898d79",
   "metadata": {},
   "outputs": [],
   "source": [
    "head_model=Flatten()(head_model)\n",
    "head_model=Dense(64,activation='relu')(head_model)\n",
    "head_model=Dropout(0.5)(head_model)\n",
    "head_model=Dense(2,activation='softmax')(head_model)\n",
    "\n",
    "model=Model(inputs=base_model.input,outputs=head_model)\n",
    "\n",
    "for layer in base_model.layers:\n",
    "    layer.trainable=False"
   ]
  },
  {
   "cell_type": "code",
   "execution_count": 9,
   "id": "84588c8b-8f0b-4801-be27-6246138a26bf",
   "metadata": {},
   "outputs": [
    {
     "name": "stdout",
     "output_type": "stream",
     "text": [
      "Requirement already satisfied: Pillow in c:\\users\\user\\appdata\\local\\programs\\python\\python311\\lib\\site-packages (10.2.0)\n",
      "Note: you may need to restart the kernel to use updated packages.\n"
     ]
    }
   ],
   "source": [
    "pip install Pillow"
   ]
  },
  {
   "cell_type": "code",
   "execution_count": 10,
   "id": "035d5b1f-1f1f-4240-b986-0e3ca1800fc8",
   "metadata": {},
   "outputs": [],
   "source": [
    "import PIL\n",
    "from PIL import Image"
   ]
  },
  {
   "cell_type": "code",
   "execution_count": 13,
   "id": "526e4c26-3fce-487e-a5d3-fbc03bb2ea91",
   "metadata": {},
   "outputs": [
    {
     "name": "stderr",
     "output_type": "stream",
     "text": [
      "C:\\Users\\USER\\AppData\\Local\\Temp\\ipykernel_6192\\2548614583.py:7: UserWarning: `Model.fit_generator` is deprecated and will be removed in a future version. Please use `Model.fit`, which supports generators.\n",
      "  model.fit_generator(train_data,steps_per_epoch=train_data.samples//batchsize,\n"
     ]
    },
    {
     "name": "stdout",
     "output_type": "stream",
     "text": [
      "Epoch 1/5\n",
      "676/676 [==============================] - ETA: 0s - loss: 0.1981 - accuracy: 0.9255\n",
      "Epoch 1: val_loss improved from inf to 0.24340, saving model to C:\\Users\\USER\\OneDrive\\Pictures\\project\\Drowsiness_detection\\model checkpoint\\model.h5\n"
     ]
    },
    {
     "name": "stderr",
     "output_type": "stream",
     "text": [
      "C:\\Users\\USER\\AppData\\Local\\Programs\\Python\\Python311\\Lib\\site-packages\\keras\\src\\engine\\training.py:3103: UserWarning: You are saving your model as an HDF5 file via `model.save()`. This file format is considered legacy. We recommend using instead the native Keras format, e.g. `model.save('my_model.keras')`.\n",
      "  saving_api.save_model(\n"
     ]
    },
    {
     "name": "stdout",
     "output_type": "stream",
     "text": [
      "676/676 [==============================] - 97s 124ms/step - loss: 0.1981 - accuracy: 0.9255 - val_loss: 0.2434 - val_accuracy: 0.8898 - lr: 0.0010\n",
      "Epoch 2/5\n",
      "676/676 [==============================] - ETA: 0s - loss: 0.1715 - accuracy: 0.9332\n",
      "Epoch 2: val_loss improved from 0.24340 to 0.22185, saving model to C:\\Users\\USER\\OneDrive\\Pictures\\project\\Drowsiness_detection\\model checkpoint\\model.h5\n",
      "676/676 [==============================] - 84s 125ms/step - loss: 0.1715 - accuracy: 0.9332 - val_loss: 0.2218 - val_accuracy: 0.9053 - lr: 0.0010\n",
      "Epoch 3/5\n",
      "676/676 [==============================] - ETA: 0s - loss: 0.1799 - accuracy: 0.9277\n",
      "Epoch 3: val_loss did not improve from 0.22185\n",
      "676/676 [==============================] - 87s 129ms/step - loss: 0.1799 - accuracy: 0.9277 - val_loss: 0.2516 - val_accuracy: 0.8935 - lr: 0.0010\n",
      "Epoch 4/5\n",
      "676/676 [==============================] - ETA: 0s - loss: 0.1692 - accuracy: 0.9353\n",
      "Epoch 4: val_loss improved from 0.22185 to 0.19732, saving model to C:\\Users\\USER\\OneDrive\\Pictures\\project\\Drowsiness_detection\\model checkpoint\\model.h5\n",
      "676/676 [==============================] - 87s 129ms/step - loss: 0.1692 - accuracy: 0.9353 - val_loss: 0.1973 - val_accuracy: 0.9120 - lr: 0.0010\n",
      "Epoch 5/5\n",
      "676/676 [==============================] - ETA: 0s - loss: 0.1714 - accuracy: 0.9353\n",
      "Epoch 5: val_loss did not improve from 0.19732\n",
      "676/676 [==============================] - 87s 128ms/step - loss: 0.1714 - accuracy: 0.9353 - val_loss: 0.2347 - val_accuracy: 0.8905 - lr: 0.0010\n"
     ]
    },
    {
     "data": {
      "text/plain": [
       "<keras.src.callbacks.History at 0x26bef0ad990>"
      ]
     },
     "execution_count": 13,
     "metadata": {},
     "output_type": "execute_result"
    }
   ],
   "source": [
    "from tensorflow.keras.preprocessing.image import load_img\n",
    "from tensorflow.keras.preprocessing.image import img_to_array\n",
    "from sklearn.preprocessing import LabelEncoder\n",
    "batchsize=80\n",
    "model.compile(optimizer='Adam',loss='categorical_crossentropy',metrics=['accuracy'])\n",
    "model.fit_generator(train_data,steps_per_epoch=train_data.samples//batchsize,\n",
    "                   validation_data=validation_data,\n",
    "                   validation_steps=validation_data.samples//batchsize,\n",
    "                   callbacks=callbacks,epochs=5)"
   ]
  },
  {
   "cell_type": "code",
   "execution_count": 15,
   "id": "6d5ff490-af2e-46fc-9f8c-88ca9b6c36b9",
   "metadata": {},
   "outputs": [
    {
     "name": "stdout",
     "output_type": "stream",
     "text": [
      "6763/6763 [==============================] - 1944s 287ms/step - loss: 0.1598 - accuracy: 0.9377\n",
      "0.1598142832517624\n",
      "0.937689483165741\n"
     ]
    }
   ],
   "source": [
    "acc_tr,loss_tr=model.evaluate(train_data)\n",
    "print(acc_tr)\n",
    "print(loss_tr)"
   ]
  },
  {
   "cell_type": "code",
   "execution_count": 16,
   "id": "076190cd-9d69-4c58-aa68-5dab0e4bbdbd",
   "metadata": {},
   "outputs": [
    {
     "name": "stderr",
     "output_type": "stream",
     "text": [
      "C:\\Users\\USER\\AppData\\Local\\Temp\\ipykernel_6192\\4184188003.py:1: UserWarning: `Model.evaluate_generator` is deprecated and will be removed in a future version. Please use `Model.evaluate`, which supports generators.\n",
      "  acc_vr,loss_vr=model.evaluate_generator(validation_data)\n"
     ]
    },
    {
     "name": "stdout",
     "output_type": "stream",
     "text": [
      "0.23127563297748566\n",
      "0.899068295955658\n"
     ]
    }
   ],
   "source": [
    "acc_vr,loss_vr=model.evaluate_generator(validation_data)\n",
    "print(acc_vr)\n",
    "print(loss_vr)"
   ]
  },
  {
   "cell_type": "code",
   "execution_count": 17,
   "id": "e9479db0-9511-49bc-b78c-afaad4fc2b2e",
   "metadata": {},
   "outputs": [
    {
     "name": "stderr",
     "output_type": "stream",
     "text": [
      "C:\\Users\\USER\\AppData\\Local\\Temp\\ipykernel_6192\\3010557615.py:1: UserWarning: `Model.evaluate_generator` is deprecated and will be removed in a future version. Please use `Model.evaluate`, which supports generators.\n",
      "  acc_te,loss_te=model.evaluate_generator(test_data)\n"
     ]
    },
    {
     "name": "stdout",
     "output_type": "stream",
     "text": [
      "0.13687793910503387\n",
      "0.9433962106704712\n"
     ]
    }
   ],
   "source": [
    "acc_te,loss_te=model.evaluate_generator(test_data)\n",
    "print(acc_te)\n",
    "print(loss_te)"
   ]
  },
  {
   "cell_type": "code",
   "execution_count": null,
   "id": "8491a141-c199-41e5-8033-90c59e8d396b",
   "metadata": {},
   "outputs": [],
   "source": []
  }
 ],
 "metadata": {
  "kernelspec": {
   "display_name": "Python 3 (ipykernel)",
   "language": "python",
   "name": "python3"
  },
  "language_info": {
   "codemirror_mode": {
    "name": "ipython",
    "version": 3
   },
   "file_extension": ".py",
   "mimetype": "text/x-python",
   "name": "python",
   "nbconvert_exporter": "python",
   "pygments_lexer": "ipython3",
   "version": "3.11.8"
  }
 },
 "nbformat": 4,
 "nbformat_minor": 5
}
